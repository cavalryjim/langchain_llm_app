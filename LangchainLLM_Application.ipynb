{
 "cells": [
  {
   "cell_type": "markdown",
   "id": "407fbfdc",
   "metadata": {},
   "source": [
    "# Building an LLM Application with Langchain"
   ]
  },
  {
   "cell_type": "markdown",
   "id": "aea7c3d5",
   "metadata": {},
   "source": [
    "This notebook is mostly code.  For more context, see this [blog post](https://blog.agilephd.com/posts/llm_langchain/)"
   ]
  },
  {
   "cell_type": "code",
   "execution_count": 19,
   "id": "23753567",
   "metadata": {},
   "outputs": [
    {
     "data": {
      "text/plain": [
       "True"
      ]
     },
     "execution_count": 19,
     "metadata": {},
     "output_type": "execute_result"
    }
   ],
   "source": [
    "import os\n",
    "from dotenv import load_dotenv\n",
    "from langchain_community.document_loaders import PyPDFLoader\n",
    "from langchain.text_splitter import CharacterTextSplitter\n",
    "from langchain_openai import OpenAIEmbeddings\n",
    "# from langchain_community.vectorstores import Chroma\n",
    "from langchain_community.vectorstores import FAISS\n",
    "from langchain.chains import RetrievalQA\n",
    "from langchain.llms import OpenAI\n",
    "from langchain_openai import OpenAI\n",
    "\n",
    "load_dotenv()"
   ]
  },
  {
   "cell_type": "code",
   "execution_count": 20,
   "id": "5876e129",
   "metadata": {},
   "outputs": [],
   "source": [
    "loader = PyPDFLoader(\"pm-11.pdf\")\n",
    "data = loader.load()\n",
    "# print(data[0])"
   ]
  },
  {
   "cell_type": "code",
   "execution_count": 21,
   "id": "6bb35a98",
   "metadata": {},
   "outputs": [],
   "source": [
    "policy_text = \"\"\n",
    "for doc in data:\n",
    "    if isinstance(doc, dict) and 'text' in doc:\n",
    "        policy_text += doc['text']\n",
    "    elif isinstance(doc, str):\n",
    "        policy_text += doc\n",
    "    else:\n",
    "        policy_text += repr(doc)"
   ]
  },
  {
   "cell_type": "code",
   "execution_count": 22,
   "id": "14b0d54d",
   "metadata": {},
   "outputs": [],
   "source": [
    "ct_splitter = CharacterTextSplitter(separator='.', chunk_size=1000, chunk_overlap=200)\n",
    "docs = ct_splitter.split_text(policy_text)\n",
    "# print(docs)"
   ]
  },
  {
   "cell_type": "code",
   "execution_count": 23,
   "id": "cf74f945",
   "metadata": {},
   "outputs": [],
   "source": [
    "api_key = os.getenv(\"OPENAI_API_KEY\")\n",
    "embedding_function = OpenAIEmbeddings(openai_api_key=api_key)\n",
    "\n",
    "# vectordb = Chroma(persist_directory='LSU', embedding_function=embedding_function)\n",
    "\n",
    "# docstorage = Chroma.from_texts(docs, embedding_function)\n",
    "docstorage = FAISS.from_texts(docs, embedding_function)"
   ]
  },
  {
   "cell_type": "code",
   "execution_count": 24,
   "id": "1a00a72e",
   "metadata": {},
   "outputs": [],
   "source": [
    "llm=OpenAI(model_name=\"gpt-3.5-turbo-instruct\", openai_api_key=api_key)\n",
    "\n",
    "qa = RetrievalQA.from_chain_type(llm=llm, chain_type=\"stuff\", retriever=docstorage.as_retriever())                             "
   ]
  },
  {
   "cell_type": "code",
   "execution_count": 25,
   "id": "fb6f6e06",
   "metadata": {},
   "outputs": [],
   "source": [
    "question = \"Can I get a blanket approval for work outside of LSU?\"\n",
    "response = qa.invoke(question)"
   ]
  },
  {
   "cell_type": "code",
   "execution_count": 26,
   "id": "5ab3f4c0",
   "metadata": {},
   "outputs": [
    {
     "name": "stdout",
     "output_type": "stream",
     "text": [
      " No, according to section IV of the document, blanket approvals for outside employment will not be granted.\n"
     ]
    }
   ],
   "source": [
    "print(response['result'])"
   ]
  },
  {
   "cell_type": "code",
   "execution_count": null,
   "id": "fdd160e8",
   "metadata": {},
   "outputs": [],
   "source": []
  }
 ],
 "metadata": {
  "kernelspec": {
   "display_name": "llm_practice",
   "language": "python",
   "name": "llm_practice"
  },
  "language_info": {
   "codemirror_mode": {
    "name": "ipython",
    "version": 3
   },
   "file_extension": ".py",
   "mimetype": "text/x-python",
   "name": "python",
   "nbconvert_exporter": "python",
   "pygments_lexer": "ipython3",
   "version": "3.10.9"
  }
 },
 "nbformat": 4,
 "nbformat_minor": 5
}
